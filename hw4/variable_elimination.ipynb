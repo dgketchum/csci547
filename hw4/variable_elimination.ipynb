{
 "cells": [
  {
   "cell_type": "markdown",
   "metadata": {},
   "source": [
    "Variable elimination is a method for exact inference on graphs: more specifically, it computes marginal probabilities for random variables.  For example, let's imagine that we're considering the case of the burglar alarm (the second one, in which we ignore Mary and instead add a node that depends on earthquake that corresponds to a radio announcement that an earthquake has occurred).  We model the joint distribution as\n",
    "$$\n",
    "P(B,E,A,J,R) = P(B)P(E)P(A|B,E)P(J|A)P(R|E).\n",
    "$$\n",
    "This is a DAG, and all it does is encode assumptions of conditional independence.  To use it quantiatively, we need to specify probability tables:\n",
    " "
   ]
  },
  {
   "cell_type": "code",
   "execution_count": 1,
   "metadata": {},
   "outputs": [],
   "source": [
    "import numpy as np\n",
    "\n",
    "def P_B(B):\n",
    "    if B==1:\n",
    "        return 1e-2\n",
    "    else:\n",
    "        return 0.99\n",
    "\n",
    "def P_E(E):\n",
    "    if E==1:\n",
    "        return 1e-3\n",
    "    else:\n",
    "        return 0.999\n",
    "\n",
    "def P_A(A,B,E):\n",
    "    cpt = np.array([[1e-3,0.3],\n",
    "                    [0.9,0.95]])\n",
    "    if A==1:\n",
    "        return cpt[B,E]\n",
    "    else:\n",
    "        return 1-cpt[B,E]\n",
    "\n",
    "def P_J(J,A):\n",
    "    cpt = np.array([0.01,0.9])\n",
    "    if J==1:\n",
    "        return cpt[A]\n",
    "    else:\n",
    "        return 1-cpt[A]\n",
    "\n",
    "def P_R(R,E):\n",
    "    cpt = np.array([1e-5,0.999])\n",
    "    if R==1:\n",
    "        return cpt[E]\n",
    "    else:\n",
    "        return 1-cpt[E]\n"
   ]
  },
  {
   "cell_type": "markdown",
   "metadata": {},
   "source": [
    " We can then multiply each of these components to form the joint probability distribution:"
   ]
  },
  {
   "cell_type": "code",
   "execution_count": 7,
   "metadata": {},
   "outputs": [],
   "source": [
    "def joint(B,E,A,J,R):\n",
    "    return P_B(B)*P_E(E)*P_A(A,B,E)*P_J(J,A)*P_R(R,E)"
   ]
  },
  {
   "cell_type": "markdown",
   "metadata": {},
   "source": [
    "Now that we have this graph specified, we are interested in using it to answer questions.  For example, let's imagine that we wish to answer the question \"given that John called, what is the probability of a burglary?\" Stated probabilistically, this can be answered by:\n",
    "$$\n",
    "P(B=1|J=1) = \\frac{P(B=1,J=1)}{P(J=1)}\n",
    "$$\n",
    "Thus we have two marginals to compute: the joint probability of John calling and a burgling occurring, and just the marginal probability of John calling.  We can find these values by summing over all the non-query variables for both the numerator and the denominator:\n",
    "$$\n",
    "P(B=1|J=1) = \\frac{\\sum_{e,a,r} P(B=1,E,A,J=1,R)}{\\sum_{b,e,a,r} P(B,E,A,J=1,R)}.\n",
    "$$\n",
    "There is a very simple (albeit naive) way of computing this:  for both the numerator and the denominator, we can compute these sums explicitly:"
   ]
  },
  {
   "cell_type": "code",
   "execution_count": 8,
   "metadata": {},
   "outputs": [
    {
     "name": "stdout",
     "output_type": "stream",
     "text": [
      "Number of evaluated states in the numerator:  8\n",
      "Number of evaluated states in the denominator:  16\n",
      "P(B=1|J=1) = 0.42341151567790375\n"
     ]
    }
   ],
   "source": [
    "import itertools\n",
    "#              B    E     A    J    R\n",
    "states_B_J = [[1],[0,1],[0,1],[1],[0,1]]\n",
    "enumerated_states = itertools.product(*states_B_J)\n",
    "numerator_states = [joint(*x) for x in enumerated_states]\n",
    "print \"Number of evaluated states in the numerator: \",len(numerator_states)\n",
    "numerator = sum(numerator_states)\n",
    "\n",
    "#              B    E     A    J    R\n",
    "states_J = [[0,1],[0,1],[0,1],[1],[0,1]]\n",
    "enumerated_states = itertools.product(*states_J)\n",
    "denominator_states = [joint(*x) for x in enumerated_states]\n",
    "print \"Number of evaluated states in the denominator: \",len(denominator_states)\n",
    "denominator = sum(denominator_states)\n",
    "\n",
    "probability = numerator/denominator\n",
    "print \"P(B=1|J=1) =\", probability\n"
   ]
  },
  {
   "cell_type": "markdown",
   "metadata": {},
   "source": [
    "We can, of course use this same brute force method to answer other queries about the state.  For example, what if John calls *and* the radio broadcasts a statement that there has been an earthquake.  What then is the probability that a burglary occurs?\n",
    "$$\n",
    "P(B=1|J=1,R=1) = \\frac{P(B=1,J=1,R=1)}{P(J=1,R=1)}\n",
    "$$"
   ]
  },
  {
   "cell_type": "code",
   "execution_count": 6,
   "metadata": {},
   "outputs": [
    {
     "name": "stdout",
     "output_type": "stream",
     "text": [
      "Number of evaluated states in the numerator:  4\n",
      "Number of evaluated states in the denominator:  8\n",
      "P(B=1|J=1,R=1) = 0.030519067886791876\n"
     ]
    }
   ],
   "source": [
    "#                B    E     A    J   R\n",
    "states_B_J_R = [[1],[0,1],[0,1],[1],[1]]\n",
    "enumerated_states = itertools.product(*states_B_J_R)\n",
    "numerator_states = [joint(*x) for x in enumerated_states]\n",
    "print \"Number of evaluated states in the numerator: \",len(numerator_states)\n",
    "numerator = sum(numerator_states)\n",
    "\n",
    "#              B    E     A    J    R\n",
    "states_J_R = [[0,1],[0,1],[0,1],[1],[1]]\n",
    "enumerated_states = itertools.product(*states_J_R)\n",
    "denominator_states = [joint(*x) for x in enumerated_states]\n",
    "print \"Number of evaluated states in the denominator: \",len(denominator_states)\n",
    "denominator = sum(denominator_states)\n",
    "\n",
    "probability = numerator/denominator\n",
    "print \"P(B=1|J=1,R=1) =\", probability"
   ]
  },
  {
   "cell_type": "markdown",
   "metadata": {},
   "source": [
    "Also, just out of curiosity: What is the probability of a burglar, given only that we hear about an earthquake on the radio?  We should be able to figure this out directly from our graph (and through intuition), but it is helpful to do the computation as well:"
   ]
  },
  {
   "cell_type": "code",
   "execution_count": 7,
   "metadata": {},
   "outputs": [
    {
     "name": "stdout",
     "output_type": "stream",
     "text": [
      "Number of evaluated states in the numerator:  8\n",
      "Number of evaluated states in the denominator:  16\n",
      "P(B=1|R=1) = 0.010000000000000004\n"
     ]
    }
   ],
   "source": [
    "#                B    E     A    J   R\n",
    "states_B_J_R = [[1],[0,1],[0,1],[0,1],[1]]\n",
    "enumerated_states = itertools.product(*states_B_J_R)\n",
    "numerator_states = [joint(*x) for x in enumerated_states]\n",
    "print \"Number of evaluated states in the numerator: \",len(numerator_states)\n",
    "numerator = sum(numerator_states)\n",
    "\n",
    "#              B    E     A    J    R\n",
    "states_J_R = [[0,1],[0,1],[0,1],[0,1],[1]]\n",
    "enumerated_states = itertools.product(*states_J_R)\n",
    "denominator_states = [joint(*x) for x in enumerated_states]\n",
    "print \"Number of evaluated states in the denominator: \",len(denominator_states)\n",
    "denominator = sum(denominator_states)\n",
    "\n",
    "probability = numerator/denominator\n",
    "print \"P(B=1|R=1) =\", probability"
   ]
  },
  {
   "cell_type": "markdown",
   "metadata": {},
   "source": [
    "Of course, without any other observations, $R$ is independent from $B$ because of the block imposed by unobserved $A$.  Note that this is *not* the same as saying what is the probability of a burglary given that $R=1$ and that John didn't call $J=0$: $J=0$ is an observation."
   ]
  },
  {
   "cell_type": "code",
   "execution_count": 8,
   "metadata": {},
   "outputs": [
    {
     "name": "stdout",
     "output_type": "stream",
     "text": [
      "Number of evaluated states in the numerator:  4\n",
      "Number of evaluated states in the denominator:  8\n",
      "P(B=1|J=0,R=1) = 0.0020135453488519866\n"
     ]
    }
   ],
   "source": [
    "#                B    E     A    J   R\n",
    "states_B_nJ_R = [[1],[0,1],[0,1],[0],[1]]\n",
    "enumerated_states = itertools.product(*states_B_nJ_R)\n",
    "numerator_states = [joint(*x) for x in enumerated_states]\n",
    "print \"Number of evaluated states in the numerator: \",len(numerator_states)\n",
    "numerator = sum(numerator_states)\n",
    "\n",
    "#              B    E     A    J    R\n",
    "states_nJ_R = [[0,1],[0,1],[0,1],[0],[1]]\n",
    "enumerated_states = itertools.product(*states_nJ_R)\n",
    "denominator_states = [joint(*x) for x in enumerated_states]\n",
    "print \"Number of evaluated states in the denominator: \",len(denominator_states)\n",
    "denominator = sum(denominator_states)\n",
    "\n",
    "probability = numerator/denominator\n",
    "print \"P(B=1|J=0,R=1) =\", probability"
   ]
  },
  {
   "cell_type": "markdown",
   "metadata": {},
   "source": [
    "Because John not calling is a good indicator that the burglar alarm is not going off, and the burglar alarm not going off is a good indicator of no burglar, this particular set of circumstances explains away much of the possibility of a burglar.  Conversely, it means that an earthquake is likely:"
   ]
  },
  {
   "cell_type": "code",
   "execution_count": 9,
   "metadata": {},
   "outputs": [
    {
     "name": "stdout",
     "output_type": "stream",
     "text": [
      "Number of evaluated states in the numerator:  4\n",
      "Number of evaluated states in the denominator:  8\n",
      "P(E=1|J=0,R=1) = 0.9865051761574405\n"
     ]
    }
   ],
   "source": [
    "#                B    E     A    J   R\n",
    "states_E_nJ_R = [[0,1],[1],[0,1],[0],[1]]\n",
    "enumerated_states = itertools.product(*states_E_nJ_R)\n",
    "numerator_states = [joint(*x) for x in enumerated_states]\n",
    "print \"Number of evaluated states in the numerator: \",len(numerator_states)\n",
    "numerator = sum(numerator_states)\n",
    "\n",
    "#              B    E     A    J    R\n",
    "states_nJ_R = [[0,1],[0,1],[0,1],[0],[1]]\n",
    "enumerated_states = itertools.product(*states_nJ_R)\n",
    "denominator_states = [joint(*x) for x in enumerated_states]\n",
    "print \"Number of evaluated states in the denominator: \",len(denominator_states)\n",
    "denominator = sum(denominator_states)\n",
    "\n",
    "probability = numerator/denominator\n",
    "print \"P(E=1|J=0,R=1) =\", probability"
   ]
  },
  {
   "cell_type": "markdown",
   "metadata": {},
   "source": [
    "Thus the combination of John not calling plus the earthquake announcement implies a 98.6% chance of an earthquake having occurred.\n",
    "\n",
    "Note that the number of evaluated states in this case occurs in powers of two.  In particular, the number of states that we have to sum over is given by\n",
    "$$\n",
    "N_{s} = 2^{n-v}\n",
    "$$\n",
    "where $n$ is the number of variables and $v$ is the number of variables that we are not marginalizing over.  Thus for five variables and one query variable, we have to sum over $2^4=16$ states.  However, there is a better way to do this which is an example of the general technique of *dynamic programming*.  This technique is called *variable elimination*.  VE works by collapsing the graph into a smaller graph by sequentially marginalizing over leaves.  It's one of only a handful of problems that's more easily understood through equations.  Let's recall our joint distribution:\n",
    "$$\n",
    "P(B,E,A,J,R) = P(B)P(E)P(A|B,E)P(J|A)P(R|E).\n",
    "$$\n",
    "Let's imagine that we wish to compute the marginal distribution $P(J=1)$.  We then must sum over all the other variables.\n",
    "$$\n",
    "P(J=1) = \\sum_b \\sum_e \\sum_a \\sum_r P(B)P(E)P(A|B,E)P(J=1|A)P(R|E).\n",
    "$$\n",
    "Obviously, some of the summands are independent of the summation variable.  We can rearrange to get the following:\n",
    "$$\n",
    "P(J=1) = \\sum_b P(B) \\sum_e P(E) \\sum_a P(A|B,E)P(J=1|A) \\sum_r P(R|E),\n",
    "$$\n",
    "This rearrangement is useful for two reasons.  First, the final sum is equal to one:  we are just summing over the two possible values of $R$, which must sum to one.  This is called a *barren node*, and identifying and removing them gives us some nice simplification:\n",
    "$$\n",
    "P(J=1) = \\sum_b P(B) \\sum_e P(E) \\sum_a P(A|B,E)P(J=1|A).\n",
    "$$\n",
    "Now, let's replace the final sum with a new factor:\n",
    "$$\n",
    "\\gamma_a(B,E) = \\sum_a P(A|B,E) P(J=1|A).\n",
    "$$\n",
    "An important note is that we're not just making this replacement symbolically: instead we are computing a new conditional probability table associated with $\\gamma_a(B,E)$.  Thus, after we compute this once, we won't need to compute it again.  For example:\n"
   ]
  },
  {
   "cell_type": "code",
   "execution_count": 2,
   "metadata": {},
   "outputs": [],
   "source": [
    "new_table_0 = np.array([[P_A(0,0,0)*P_J(1,0) + P_A(1,0,0)*P_J(1,1), P_A(0,0,1)*P_J(1,0) + P_A(1,0,1)*P_J(1,1)], \n",
    "                      [P_A(0,1,0)*P_J(1,0) + P_A(1,1,0)*P_J(1,1), P_A(0,1,1)*P_J(1,0) + P_A(1,1,1)*P_J(1,1)]])\n",
    "def gamma_A(B,E):\n",
    "    ptable = new_table_0\n",
    "    return ptable[B,E] \n"
   ]
  },
  {
   "cell_type": "markdown",
   "metadata": {},
   "source": [
    "Making this substitution, we have\n",
    "$$\n",
    "P(J=1) = \\sum_b P(B) \\sum_e P(E) \\gamma_a(B,E).\n",
    "$$"
   ]
  },
  {
   "cell_type": "markdown",
   "metadata": {},
   "source": [
    "Now, we can generate a similar factor:\n",
    "$$\n",
    "\\gamma_e(B) = \\sum_e P(E) \\gamma_a(B,E)\n",
    "$$"
   ]
  },
  {
   "cell_type": "code",
   "execution_count": 3,
   "metadata": {},
   "outputs": [
    {
     "data": {
      "text/plain": [
       "0.01115611"
      ]
     },
     "execution_count": 3,
     "metadata": {},
     "output_type": "execute_result"
    }
   ],
   "source": [
    "new_table_1 = np.array([P_E(0)*gamma_A(0,0) + P_E(1)*gamma_A(0,1),P_E(0)*gamma_A(1,0) + P_E(1)*gamma_A(1,1)])\n",
    "\n",
    "def gamma_E(B):\n",
    "    ptable = new_table_1\n",
    "    return ptable[B]\n",
    "    \n",
    "gamma_E(0)"
   ]
  },
  {
   "cell_type": "markdown",
   "metadata": {},
   "source": [
    "which gives us\n",
    "$$\n",
    "P(J=1) = \\sum_b P(B) \\gamma_e(B).\n",
    "$$\n",
    "We can easily compute the value of this:"
   ]
  },
  {
   "cell_type": "code",
   "execution_count": 4,
   "metadata": {},
   "outputs": [
    {
     "name": "stdout",
     "output_type": "stream",
     "text": [
      "P(J=1) =  0.0191549939\n"
     ]
    }
   ],
   "source": [
    "print 'P(J=1) = ', P_B(0)*gamma_E(0) + P_B(1)*gamma_E(1)"
   ]
  },
  {
   "cell_type": "markdown",
   "metadata": {},
   "source": [
    "Comparing this to the brute force method:"
   ]
  },
  {
   "cell_type": "code",
   "execution_count": 9,
   "metadata": {},
   "outputs": [
    {
     "name": "stdout",
     "output_type": "stream",
     "text": [
      "Number of evaluated states in the numerator:  16\n",
      "0.019154993900000004\n"
     ]
    }
   ],
   "source": [
    "#                B    E     A    J   R\n",
    "states = [[0,1],[0,1],[0,1],[1],[0,1]]\n",
    "enumerated_states = itertools.product(*states)\n",
    "numerator_states = [joint(*x) for x in enumerated_states]\n",
    "print \"Number of evaluated states in the numerator: \",len(numerator_states)\n",
    "numerator = sum(numerator_states)\n",
    "print numerator"
   ]
  },
  {
   "cell_type": "markdown",
   "metadata": {},
   "source": [
    "The results are identical.  However, If count the number of floating point operations, we'll see that for the brute force method, we had to compute $4 \\times 16 + 16 = 80$ operations.  Using VE, we had to compute $3\\times 4 + 3\\times 2 + 3 = 21$ operations (plus a little bit of extra overhead assocated with storing the new variables.  This is a big savings.  While the brute force method is exponential in the number of nodes, VE is exponential in the maximum number of parental nodes.  Thus, for this graph, the *bottleneck* comes from the $A$ node, which has two parents.\n",
    "\n",
    "Obviously, for graphs with lots of connections (i.e. with nodes containing lots of parents), this technique is still going to be quite slow.  However, it also implies that we can perform inference in linear time if all nodes are restricted to having one parent.  This type of graph has a special name: *a tree*.  "
   ]
  },
  {
   "cell_type": "code",
   "execution_count": null,
   "metadata": {},
   "outputs": [],
   "source": []
  }
 ],
 "metadata": {
  "kernelspec": {
   "display_name": "Python 2",
   "language": "python",
   "name": "python2"
  },
  "language_info": {
   "codemirror_mode": {
    "name": "ipython",
    "version": 2
   },
   "file_extension": ".py",
   "mimetype": "text/x-python",
   "name": "python",
   "nbconvert_exporter": "python",
   "pygments_lexer": "ipython2",
   "version": "2.7.12"
  }
 },
 "nbformat": 4,
 "nbformat_minor": 2
}
