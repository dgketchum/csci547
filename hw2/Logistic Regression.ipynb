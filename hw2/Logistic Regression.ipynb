{
 "cells": [
  {
   "cell_type": "markdown",
   "metadata": {},
   "source": [
    "Let's implement a logistic regression for the lobster problem!  Let's begin with a few imports."
   ]
  },
  {
   "cell_type": "code",
   "execution_count": 1,
   "metadata": {},
   "outputs": [],
   "source": [
    "from __future__ import division    # Eliminates annoying default integer division behavior\n",
    "import numpy as np \n",
    "import pandas as pd\n",
    "import matplotlib.pyplot as plt"
   ]
  },
  {
   "cell_type": "markdown",
   "metadata": {},
   "source": [
    "Logistic regression is relatively simple to implement.  To begin with, we need the logistic function $\\sigma(\\mathbf{w}^T \\mathbf{x})$:"
   ]
  },
  {
   "cell_type": "code",
   "execution_count": 2,
   "metadata": {},
   "outputs": [],
   "source": [
    "# The sigmoid function\n",
    "def _sigmoid(w,X):\n",
    "    z = np.dot(X,w)\n",
    "    return 1./(1+np.exp(-z))"
   ]
  },
  {
   "cell_type": "markdown",
   "metadata": {},
   "source": [
    "Next we'll need an objective function, given by the log-likelihood of the Bernoulli distribution:\n",
    "\\begin{equation}\n",
    "\\mathcal{J}(X,\\mathbf{y},\\mathbf{w}) = -\\sum_{i=1}^m y_i \\ln \\sigma(\\mathbf{w}^T X_i) + (1-y_i) \\ln (1-\\sigma(\\mathbf{w}^T X_i)).\n",
    "\\end{equation}\n"
   ]
  },
  {
   "cell_type": "code",
   "execution_count": 3,
   "metadata": {},
   "outputs": [],
   "source": [
    "# The objective function\n",
    "def _J_fun(w,X):\n",
    "    return -sum(y*np.log(_sigmoid(w,X)) + (1-y)*np.log(1-_sigmoid(w,X)))"
   ]
  },
  {
   "cell_type": "markdown",
   "metadata": {},
   "source": [
    "Finally, we'll need the gradient of the objective function with respect to the parameter values:\n",
    "\\begin{equation}\n",
    "\\frac{\\partial \\mathcal{J}}{\\partial \\mathbf{w}_j} = \\sum_{i=1}^m (\\sigma(\\mathbf{w}^T X_i) - \\mathbf{y}_i) X_{ij}.\n",
    "\\end{equation} "
   ]
  },
  {
   "cell_type": "code",
   "execution_count": 4,
   "metadata": {},
   "outputs": [],
   "source": [
    "# The gradient of the objective function\n",
    "def _gradient_fun(w,X):\n",
    "    return np.dot(_sigmoid(w,X)-y,X)"
   ]
  },
  {
   "cell_type": "markdown",
   "metadata": {},
   "source": [
    "With these functions in hand, we just need to import some data:"
   ]
  },
  {
   "cell_type": "code",
   "execution_count": 5,
   "metadata": {},
   "outputs": [],
   "source": [
    "data = pd.read_csv('lobster_survive.dat',header=0,sep=r\"\\s{2,}\",engine='python')\n",
    "x = data['Len'].as_matrix().astype(float)\n",
    "y = data['Survive'].as_matrix().astype(float)\n",
    "N = len(y)"
   ]
  },
  {
   "cell_type": "markdown",
   "metadata": {},
   "source": [
    "generate a design matrix $X$ (the Vandermonde matrix):"
   ]
  },
  {
   "cell_type": "code",
   "execution_count": 6,
   "metadata": {},
   "outputs": [],
   "source": [
    "X = np.vander(x,2,increasing=True)"
   ]
  },
  {
   "cell_type": "markdown",
   "metadata": {},
   "source": [
    "To implement gradient descent, we need a learning rate $\\eta$.  A bit of experimentation has shown that using a tensor-valued $\\eta$ works well"
   ]
  },
  {
   "cell_type": "code",
   "execution_count": 7,
   "metadata": {},
   "outputs": [],
   "source": [
    "eta = np.array([[0.000001,0],[0,0.000000001]])"
   ]
  },
  {
   "cell_type": "markdown",
   "metadata": {},
   "source": [
    "We need to specify a stopping criterion:  in this case let's just run the thing for $2\\times 10^4$ and hope that we've found the optimal value afterwards."
   ]
  },
  {
   "cell_type": "code",
   "execution_count": 8,
   "metadata": {},
   "outputs": [],
   "source": [
    "N_iterations = 200000"
   ]
  },
  {
   "cell_type": "markdown",
   "metadata": {},
   "source": [
    "Since gradient descent is an iterative algorithm, we need to specify some values of $\\mathbf{w}$ as an initial guess."
   ]
  },
  {
   "cell_type": "code",
   "execution_count": 9,
   "metadata": {},
   "outputs": [],
   "source": [
    "w = np.array([-1.,0.5])  "
   ]
  },
  {
   "cell_type": "markdown",
   "metadata": {},
   "source": [
    "Finally, to do gradient descent, we just repeatedly evaluate the gradient, scale it with the learning rate, and update the parameters"
   ]
  },
  {
   "cell_type": "code",
   "execution_count": 10,
   "metadata": {},
   "outputs": [],
   "source": [
    "# Do N_iterations rounds of gradient descent\n",
    "for i in range(N_iterations):\n",
    "    grad_w = _gradient_fun(w,X)    # Compute the gradient of the objective function\n",
    "    w -= np.dot(eta,grad_w)"
   ]
  },
  {
   "cell_type": "code",
   "execution_count": 11,
   "metadata": {},
   "outputs": [
    {
     "data": {
      "text/plain": [
       "array([-8.63293781,  0.21401289])"
      ]
     },
     "execution_count": 11,
     "metadata": {},
     "output_type": "execute_result"
    }
   ],
   "source": [
    "w"
   ]
  },
  {
   "cell_type": "markdown",
   "metadata": {},
   "source": [
    "We can easily plot our modelled class probabilities over the data"
   ]
  },
  {
   "cell_type": "code",
   "execution_count": 18,
   "metadata": {},
   "outputs": [
    {
     "data": {
      "image/png": "[encoded data removed]",
      "text/plain": [
       "<matplotlib.figure.Figure at 0x7fb76d0cd350>"
      ]
     },
     "metadata": {},
     "output_type": "display_data"
    }
   ],
   "source": [
    "plt.plot(x,y+np.random.randn(len(y))*0.02,'b.')  # Adding Gaussian noise so that we can see the density of points\n",
    "plt.plot(x,_sigmoid(w,X),'k')\n",
    "plt.xlabel('Lobster Size (cm)')\n",
    "plt.ylabel('Probability of survival')\n",
    "plt.show()"
   ]
  },
  {
   "cell_type": "markdown",
   "metadata": {},
   "source": [
    "We can also compute the error in our classification by noting that if $\\sigma(\\mathbf{w}^T\\mathbf{x})>0.5$, then we'll predict survival."
   ]
  },
  {
   "cell_type": "code",
   "execution_count": 26,
   "metadata": {},
   "outputs": [
    {
     "name": "stdout",
     "output_type": "stream",
     "text": [
      "0.710691823899371\n"
     ]
    }
   ],
   "source": [
    "classification_error = sum((_sigmoid(w,X)>0.5)==y)/len(y)\n",
    "print classification_error"
   ]
  },
  {
   "cell_type": "markdown",
   "metadata": {},
   "source": [
    "71%.  Better than guessing, but not great.  This isn't surprising because these data are obviously not seperable!"
   ]
  },
  {
   "cell_type": "code",
   "execution_count": null,
   "metadata": {},
   "outputs": [],
   "source": []
  }
 ],
 "metadata": {
  "kernelspec": {
   "display_name": "Python 3",
   "language": "python",
   "name": "python3"
  },
  "language_info": {
   "codemirror_mode": {
    "name": "ipython",
    "version": 3
   },
   "file_extension": ".py",
   "mimetype": "text/x-python",
   "name": "python",
   "nbconvert_exporter": "python",
   "pygments_lexer": "ipython3",
   "version": "3.6.3"
  }
 },
 "nbformat": 4,
 "nbformat_minor": 2
}
